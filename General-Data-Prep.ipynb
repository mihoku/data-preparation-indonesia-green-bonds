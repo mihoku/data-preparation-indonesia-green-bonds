{
 "cells": [
  {
   "cell_type": "markdown",
   "metadata": {},
   "source": [
    "# 1. Importing Required Modules"
   ]
  },
  {
   "cell_type": "code",
   "execution_count": 3,
   "metadata": {},
   "outputs": [],
   "source": [
    "from zipfile import ZipFile \n",
    "import pandas as pd\n",
    "import os"
   ]
  },
  {
   "cell_type": "markdown",
   "metadata": {},
   "source": [
    "# 2. Extract data file from zip files"
   ]
  },
  {
   "cell_type": "markdown",
   "metadata": {},
   "source": [
    "## 2.a. Securities master file "
   ]
  },
  {
   "cell_type": "code",
   "execution_count": 13,
   "metadata": {},
   "outputs": [
    {
     "name": "stdout",
     "output_type": "stream",
     "text": [
      "StatisEfek20210531.txt.zip\n",
      "StatisEfek20210630.txt.zip\n",
      "StatisEfek20210730.txt.zip\n",
      "StatisEfek20210831.txt.zip\n",
      "StatisEfek20210930.txt.zip\n",
      "StatisEfek20211029.txt.zip\n",
      "StatisEfek20211130.txt.zip\n",
      "StatisEfek20211230.txt.zip\n",
      "StatisEfek20220131.txt.zip\n",
      "StatisEfek20220225.txt.zip\n",
      "StatisEfek20220331.txt.zip\n",
      "StatisEfek20220428.txt.zip\n",
      "StatisEfek20220531.txt.zip\n",
      "StatisEfek20220630.txt.zip\n",
      "StatisEfek20220729.txt.zip\n",
      "StatisEfek20220831.txt.zip\n",
      "StatisEfek20220930.txt.zip\n",
      "StatisEfek20221031.txt.zip\n",
      "StatisEfek20221130.txt.zip\n",
      "StatisEfek20221230.txt.zip\n",
      "StatisEfek20230131.txt.zip\n",
      "StatisEfek20230228.txt.zip\n",
      "StatisEfek20230331.txt.zip\n",
      "StatisEfek20230428.txt.zip\n",
      "StatisEfek20230531.txt.zip\n",
      "StatisEfek20230627.txt.zip\n",
      "StatisEfek20230731.txt.zip\n",
      "StatisEfek20230831.txt.zip\n",
      "StatisEfek20230929.txt.zip\n",
      "StatisEfek20231031.txt.zip\n",
      "StatisEfek20231130.txt.zip\n",
      "StatisEfek20231229.txt.zip\n",
      "StatisEfek20240131.txt.zip\n",
      "StatisEfek20240229.txt.zip\n",
      "StatisEfek20240328.txt.zip\n",
      "StatisEfek20240430.txt.zip\n",
      "tmp\n"
     ]
    },
    {
     "ename": "PermissionError",
     "evalue": "[Errno 13] Permission denied: 'Dataset_Masterfile_Efek\\\\tmp'",
     "output_type": "error",
     "traceback": [
      "\u001b[1;31m---------------------------------------------------------------------------\u001b[0m",
      "\u001b[1;31mPermissionError\u001b[0m                           Traceback (most recent call last)",
      "Cell \u001b[1;32mIn[13], line 22\u001b[0m\n\u001b[0;32m     20\u001b[0m \u001b[38;5;28mprint\u001b[39m(file)\n\u001b[0;32m     21\u001b[0m \u001b[38;5;66;03m# Load the zip file and create a zip object \u001b[39;00m\n\u001b[1;32m---> 22\u001b[0m \u001b[38;5;28;01mwith\u001b[39;00m \u001b[43mZipFile\u001b[49m\u001b[43m(\u001b[49m\u001b[43msecurities_mf_path\u001b[49m\u001b[38;5;241;43m+\u001b[39;49m\u001b[38;5;124;43m\"\u001b[39;49m\u001b[38;5;130;43;01m\\\\\u001b[39;49;00m\u001b[38;5;124;43m\"\u001b[39;49m\u001b[38;5;241;43m+\u001b[39;49m\u001b[43mfile\u001b[49m\u001b[43m,\u001b[49m\u001b[43m \u001b[49m\u001b[38;5;124;43m'\u001b[39;49m\u001b[38;5;124;43mr\u001b[39;49m\u001b[38;5;124;43m'\u001b[39;49m\u001b[43m)\u001b[49m \u001b[38;5;28;01mas\u001b[39;00m mf_zip: \n\u001b[0;32m     23\u001b[0m \n\u001b[0;32m     24\u001b[0m     \u001b[38;5;66;03m# Extracting all the members of the zip  \u001b[39;00m\n\u001b[0;32m     25\u001b[0m     \u001b[38;5;66;03m# into a specific location. \u001b[39;00m\n\u001b[0;32m     26\u001b[0m     mf_zip\u001b[38;5;241m.\u001b[39mextractall(path\u001b[38;5;241m=\u001b[39mmf_temp_dir) \n\u001b[0;32m     28\u001b[0m \u001b[38;5;66;03m# Close zip file\u001b[39;00m\n",
      "File \u001b[1;32md:\\Work\\2024\\Diklat Data Analytics\\.conda\\lib\\zipfile.py:1248\u001b[0m, in \u001b[0;36mZipFile.__init__\u001b[1;34m(self, file, mode, compression, allowZip64, compresslevel, strict_timestamps)\u001b[0m\n\u001b[0;32m   1246\u001b[0m \u001b[38;5;28;01mwhile\u001b[39;00m \u001b[38;5;28;01mTrue\u001b[39;00m:\n\u001b[0;32m   1247\u001b[0m     \u001b[38;5;28;01mtry\u001b[39;00m:\n\u001b[1;32m-> 1248\u001b[0m         \u001b[38;5;28mself\u001b[39m\u001b[38;5;241m.\u001b[39mfp \u001b[38;5;241m=\u001b[39m \u001b[43mio\u001b[49m\u001b[38;5;241;43m.\u001b[39;49m\u001b[43mopen\u001b[49m\u001b[43m(\u001b[49m\u001b[43mfile\u001b[49m\u001b[43m,\u001b[49m\u001b[43m \u001b[49m\u001b[43mfilemode\u001b[49m\u001b[43m)\u001b[49m\n\u001b[0;32m   1249\u001b[0m     \u001b[38;5;28;01mexcept\u001b[39;00m \u001b[38;5;167;01mOSError\u001b[39;00m:\n\u001b[0;32m   1250\u001b[0m         \u001b[38;5;28;01mif\u001b[39;00m filemode \u001b[38;5;129;01min\u001b[39;00m modeDict:\n",
      "\u001b[1;31mPermissionError\u001b[0m: [Errno 13] Permission denied: 'Dataset_Masterfile_Efek\\\\tmp'"
     ]
    }
   ],
   "source": [
    "# Listing all zip files in the directory\n",
    "securities_mf_path = 'Dataset_Masterfile_Efek'\n",
    "securities_mf_files = os.listdir(securities_mf_path)\n",
    "\n",
    "# Create an empty text file\n",
    "securities_mf_all_filename = securities_mf_path+'.txt'\n",
    "with open(os.path.join(securities_mf_path, securities_mf_all_filename), 'w') as securities_mf_file:\n",
    "    pass\n",
    "\n",
    "# Create temprary folder\n",
    "mf_temp_dir = securities_mf_path+'\\\\tmp'\n",
    "if not os.path.exists(mf_temp_dir):\n",
    "    os.makedirs(mf_temp_dir)\n",
    "\n",
    "# Iterate over all files in dataset folder. \n",
    "# Extract the txt file and put it in the tmp folder\n",
    "# Open the txt file, append its content to the empty file previously created\n",
    "# Delete the file in tmp folder\n",
    "for file in securities_mf_files:\n",
    "    print(file)\n",
    "    # Load the zip file and create a zip object \n",
    "    with ZipFile(securities_mf_path+\"\\\\\"+file, 'r') as mf_zip: \n",
    "  \n",
    "        # Extracting all the members of the zip  \n",
    "        # into a specific location. \n",
    "        mf_zip.extractall(path=mf_temp_dir) \n",
    "    \n",
    "    # Close zip file\n",
    "    mf_zip.close()\n",
    "    "
   ]
  },
  {
   "cell_type": "markdown",
   "metadata": {},
   "source": [
    "## 2.b. Securities ownership master file"
   ]
  },
  {
   "cell_type": "code",
   "execution_count": 6,
   "metadata": {},
   "outputs": [
    {
     "data": {
      "text/plain": [
       "['BalanceposEfek20210531.zip',\n",
       " 'BalanceposEfek20210630.zip',\n",
       " 'BalanceposEfek20210730.zip',\n",
       " 'BalanceposEfek20210831.zip',\n",
       " 'BalanceposEfek20210930.zip',\n",
       " 'BalanceposEfek20211029.zip',\n",
       " 'BalanceposEfek20211130.zip',\n",
       " 'BalanceposEfek20211230.zip',\n",
       " 'BalanceposEfek20220131.zip',\n",
       " 'BalanceposEfek20220225.zip',\n",
       " 'BalanceposEfek20220331.zip',\n",
       " 'BalanceposEfek20220428.zip',\n",
       " 'BalanceposEfek20220531.zip',\n",
       " 'BalanceposEfek20220630.zip',\n",
       " 'BalanceposEfek20220729.zip',\n",
       " 'BalanceposEfek20220831.zip',\n",
       " 'BalanceposEfek20220930.zip',\n",
       " 'BalanceposEfek20221031.zip',\n",
       " 'BalanceposEfek20221130.zip',\n",
       " 'BalanceposEfek20221230.zip',\n",
       " 'BalanceposEfek20230131.zip',\n",
       " 'BalanceposEfek20230228.zip',\n",
       " 'BalanceposEfek20230331.zip',\n",
       " 'BalanceposEfek20230428.zip',\n",
       " 'BalanceposEfek20230531.zip',\n",
       " 'BalanceposEfek20230627.zip',\n",
       " 'BalanceposEfek20230731.zip',\n",
       " 'BalanceposEfek20230831.zip',\n",
       " 'BalanceposEfek20230929.zip',\n",
       " 'BalanceposEfek20231031.zip',\n",
       " 'BalanceposEfek20231130.zip',\n",
       " 'BalanceposEfek20231229.zip',\n",
       " 'BalanceposEfek20240131.zip',\n",
       " 'BalanceposEfek20240229.zip',\n",
       " 'BalanceposEfek20240328.zip',\n",
       " 'BalanceposEfek20240430.zip']"
      ]
     },
     "execution_count": 6,
     "metadata": {},
     "output_type": "execute_result"
    }
   ],
   "source": [
    "# Listing all zip files in the directory\n",
    "securities_os_path = 'Dataset_Ownership_Efek'\n",
    "securities_os_files = os.listdir(securities_os_path)\n",
    "\n",
    "# Create an empty text file\n",
    "securities_os_all_filename = securities_os_path+'.txt'\n",
    "with open(os.path.join(securities_os_path, securities_os_all_filename), 'w') as securities_os_file:\n",
    "    pass"
   ]
  },
  {
   "cell_type": "code",
   "execution_count": null,
   "metadata": {},
   "outputs": [],
   "source": []
  }
 ],
 "metadata": {
  "kernelspec": {
   "display_name": "Python 3",
   "language": "python",
   "name": "python3"
  },
  "language_info": {
   "codemirror_mode": {
    "name": "ipython",
    "version": 3
   },
   "file_extension": ".py",
   "mimetype": "text/x-python",
   "name": "python",
   "nbconvert_exporter": "python",
   "pygments_lexer": "ipython3",
   "version": "3.9.18"
  }
 },
 "nbformat": 4,
 "nbformat_minor": 2
}
