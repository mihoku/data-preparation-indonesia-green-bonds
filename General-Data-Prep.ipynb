{
 "cells": [
  {
   "cell_type": "markdown",
   "metadata": {},
   "source": [
    "# 1. Importing Required Modules"
   ]
  },
  {
   "cell_type": "code",
   "execution_count": 1,
   "metadata": {},
   "outputs": [],
   "source": [
    "from zipfile import ZipFile \n",
    "import pandas as pd\n",
    "import os"
   ]
  },
  {
   "cell_type": "markdown",
   "metadata": {},
   "source": [
    "# 2. Extract data file from zip files"
   ]
  },
  {
   "cell_type": "markdown",
   "metadata": {},
   "source": [
    "## 2.a. Securities master file "
   ]
  },
  {
   "cell_type": "code",
   "execution_count": 3,
   "metadata": {},
   "outputs": [],
   "source": [
    "# Listing all zip files in the directory\n",
    "securities_mf_path = 'Dataset_Masterfile_Efek'\n",
    "securities_mf_files = os.listdir(securities_mf_path)\n",
    "\n",
    "# Create an empty text file\n",
    "securities_mf_all_filename = securities_mf_path+'.txt'\n",
    "with open(os.path.join(securities_mf_path, securities_mf_all_filename), 'a', encoding=\"utf-8\") as securities_mf_file:\n",
    "    pass\n",
    "\n",
    "# Create temprary folder\n",
    "mf_temp_dir = 'tmp'\n",
    "if not os.path.exists(os.path.join(securities_mf_path, mf_temp_dir)):\n",
    "    os.makedirs(os.path.join(securities_mf_path, mf_temp_dir))\n",
    "\n",
    "# Track the file processed\n",
    "file_processed = 0\n",
    "\n",
    "# Iterate over all files in dataset folder. \n",
    "# Extract the txt file and put it in the tmp folder\n",
    "# Open the txt file, append its content to the empty file previously created\n",
    "# Delete the file in tmp folder\n",
    "for file in securities_mf_files:\n",
    "    # Load the zip file and create a zip object \n",
    "    with ZipFile(os.path.join(securities_mf_path, file), 'r') as mf_zip: \n",
    "  \n",
    "        # Extracting all the members of the zip  \n",
    "        # into a specific location. \n",
    "        mf_zip.extractall(path=os.path.join(securities_mf_path, mf_temp_dir)) \n",
    "    \n",
    "    # Close zip file\n",
    "    mf_zip.close()\n",
    "\n",
    "    # Open the file in tmp folder, read the content, and delete the file once its done\n",
    "    securities_mf_tmp = os.listdir(os.path.join(securities_mf_path, mf_temp_dir))\n",
    "    securities_mf_txt = open(os.path.join(os.path.join(securities_mf_path, mf_temp_dir),securities_mf_tmp[0]),\"r\", encoding=\"utf-8\")\n",
    "    file_content = securities_mf_txt.read()\n",
    "    securities_mf_txt.close()\n",
    "    os.remove(os.path.join(os.path.join(securities_mf_path, mf_temp_dir),securities_mf_tmp[0]))\n",
    "    \n",
    "    # Only the header line on the first file needs to be added to the new file\n",
    "    if file_processed==0:\n",
    "        all_mf_file = open(os.path.join(securities_mf_path, securities_mf_all_filename), 'a', encoding=\"utf-8\")\n",
    "        all_mf_file.write(file_content)\n",
    "        all_mf_file.close()\n",
    "    else:\n",
    "        file_content_list = file_content.split('\\n')[1:]\n",
    "        all_mf_file = open(os.path.join(securities_mf_path, securities_mf_all_filename), 'a', encoding=\"utf-8\")\n",
    "        all_mf_file.write(\"\\n\".join(file_content_list))\n",
    "        all_mf_file.close()\n",
    "\n",
    "# Delete tmp folder\n",
    "os.remove(os.path.join(securities_mf_path, mf_temp_dir))"
   ]
  },
  {
   "cell_type": "markdown",
   "metadata": {},
   "source": [
    "## 2.b. Securities ownership master file"
   ]
  },
  {
   "cell_type": "code",
   "execution_count": 6,
   "metadata": {},
   "outputs": [
    {
     "data": {
      "text/plain": [
       "['BalanceposEfek20210531.zip',\n",
       " 'BalanceposEfek20210630.zip',\n",
       " 'BalanceposEfek20210730.zip',\n",
       " 'BalanceposEfek20210831.zip',\n",
       " 'BalanceposEfek20210930.zip',\n",
       " 'BalanceposEfek20211029.zip',\n",
       " 'BalanceposEfek20211130.zip',\n",
       " 'BalanceposEfek20211230.zip',\n",
       " 'BalanceposEfek20220131.zip',\n",
       " 'BalanceposEfek20220225.zip',\n",
       " 'BalanceposEfek20220331.zip',\n",
       " 'BalanceposEfek20220428.zip',\n",
       " 'BalanceposEfek20220531.zip',\n",
       " 'BalanceposEfek20220630.zip',\n",
       " 'BalanceposEfek20220729.zip',\n",
       " 'BalanceposEfek20220831.zip',\n",
       " 'BalanceposEfek20220930.zip',\n",
       " 'BalanceposEfek20221031.zip',\n",
       " 'BalanceposEfek20221130.zip',\n",
       " 'BalanceposEfek20221230.zip',\n",
       " 'BalanceposEfek20230131.zip',\n",
       " 'BalanceposEfek20230228.zip',\n",
       " 'BalanceposEfek20230331.zip',\n",
       " 'BalanceposEfek20230428.zip',\n",
       " 'BalanceposEfek20230531.zip',\n",
       " 'BalanceposEfek20230627.zip',\n",
       " 'BalanceposEfek20230731.zip',\n",
       " 'BalanceposEfek20230831.zip',\n",
       " 'BalanceposEfek20230929.zip',\n",
       " 'BalanceposEfek20231031.zip',\n",
       " 'BalanceposEfek20231130.zip',\n",
       " 'BalanceposEfek20231229.zip',\n",
       " 'BalanceposEfek20240131.zip',\n",
       " 'BalanceposEfek20240229.zip',\n",
       " 'BalanceposEfek20240328.zip',\n",
       " 'BalanceposEfek20240430.zip']"
      ]
     },
     "execution_count": 6,
     "metadata": {},
     "output_type": "execute_result"
    }
   ],
   "source": [
    "# Listing all zip files in the directory\n",
    "securities_os_path = 'Dataset_Ownership_Efek'\n",
    "securities_os_files = os.listdir(securities_os_path)\n",
    "\n",
    "# Create an empty text file\n",
    "securities_os_all_filename = securities_os_path+'.txt'\n",
    "with open(os.path.join(securities_os_path, securities_os_all_filename), 'w') as securities_os_file:\n",
    "    pass"
   ]
  },
  {
   "cell_type": "code",
   "execution_count": null,
   "metadata": {},
   "outputs": [],
   "source": []
  }
 ],
 "metadata": {
  "kernelspec": {
   "display_name": "Python 3",
   "language": "python",
   "name": "python3"
  },
  "language_info": {
   "codemirror_mode": {
    "name": "ipython",
    "version": 3
   },
   "file_extension": ".py",
   "mimetype": "text/x-python",
   "name": "python",
   "nbconvert_exporter": "python",
   "pygments_lexer": "ipython3",
   "version": "3.9.18"
  }
 },
 "nbformat": 4,
 "nbformat_minor": 2
}
