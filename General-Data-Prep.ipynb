{
 "cells": [
  {
   "cell_type": "markdown",
   "metadata": {},
   "source": [
    "# 1. Importing Required Modules"
   ]
  },
  {
   "cell_type": "code",
   "execution_count": 1,
   "metadata": {},
   "outputs": [],
   "source": [
    "from zipfile import ZipFile \n",
    "import pandas as pd\n",
    "import os"
   ]
  },
  {
   "cell_type": "markdown",
   "metadata": {},
   "source": [
    "# 2. Extract data file from zip files"
   ]
  },
  {
   "cell_type": "markdown",
   "metadata": {},
   "source": [
    "## 2.a. Create a function for data extraction"
   ]
  },
  {
   "cell_type": "code",
   "execution_count": 10,
   "metadata": {},
   "outputs": [],
   "source": [
    "def security_data_consolidator(path_folder):\n",
    "\n",
    "    # Listing all zip files in the directory\n",
    "    securities_mf_path = path_folder\n",
    "    securities_mf_files = os.listdir(securities_mf_path)\n",
    "\n",
    "    # Create an empty text file\n",
    "    securities_mf_all_filename = securities_mf_path+'.txt'\n",
    "    with open(os.path.join(securities_mf_path, securities_mf_all_filename), 'a', encoding=\"utf-8\") as securities_mf_file:\n",
    "        pass\n",
    "\n",
    "    # Create temprary folder\n",
    "    mf_temp_dir = 'tmp'\n",
    "    if not os.path.exists(os.path.join(securities_mf_path, mf_temp_dir)):\n",
    "        os.makedirs(os.path.join(securities_mf_path, mf_temp_dir))\n",
    "\n",
    "    # Track the file processed\n",
    "    file_processed = 0\n",
    "\n",
    "    # Iterate over all files in dataset folder. \n",
    "    # Extract the txt file and put it in the tmp folder\n",
    "    # Open the txt file, append its content to the empty file previously created\n",
    "    # Delete the file in tmp folder\n",
    "    for file in securities_mf_files:\n",
    "        # Load the zip file and create a zip object \n",
    "        with ZipFile(os.path.join(securities_mf_path, file), 'r') as mf_zip: \n",
    "    \n",
    "            # Extracting all the members of the zip  \n",
    "            # into a specific location. \n",
    "            mf_zip.extractall(path=os.path.join(securities_mf_path, mf_temp_dir)) \n",
    "        \n",
    "        # Close zip file\n",
    "        mf_zip.close()\n",
    "\n",
    "        # Open the file in tmp folder, read the content, and delete the file once its done\n",
    "        securities_mf_tmp = os.listdir(os.path.join(securities_mf_path, mf_temp_dir))\n",
    "        securities_mf_txt = open(os.path.join(os.path.join(securities_mf_path, mf_temp_dir),securities_mf_tmp[0]),\"r\", encoding=\"utf-8\")\n",
    "        file_content = securities_mf_txt.read()\n",
    "        securities_mf_txt.close()\n",
    "        os.remove(os.path.join(os.path.join(securities_mf_path, mf_temp_dir),securities_mf_tmp[0]))\n",
    "        \n",
    "        # Only the header line on the first file needs to be added to the new file\n",
    "        if file_processed==0:\n",
    "            all_mf_file = open(os.path.join(securities_mf_path, securities_mf_all_filename), 'a', encoding=\"utf-8\")\n",
    "            all_mf_file.write(file_content)\n",
    "            all_mf_file.close()\n",
    "        else:\n",
    "            file_content_list = file_content.split('\\n')[1:]\n",
    "            all_mf_file = open(os.path.join(securities_mf_path, securities_mf_all_filename), 'a', encoding=\"utf-8\")\n",
    "            all_mf_file.write(\"\\n\".join(file_content_list))\n",
    "            all_mf_file.close()\n",
    "\n",
    "    # Delete tmp folder\n",
    "    os.removedirs(os.path.join(securities_mf_path, mf_temp_dir))\n",
    "    #os.remove(path_folder+'\\\\tmp')"
   ]
  },
  {
   "cell_type": "markdown",
   "metadata": {},
   "source": [
    "## 2.b. Extract data from securities master file "
   ]
  },
  {
   "cell_type": "code",
   "execution_count": 11,
   "metadata": {},
   "outputs": [],
   "source": [
    "security_data_consolidator('Dataset_Masterfile_Efek')"
   ]
  },
  {
   "cell_type": "markdown",
   "metadata": {},
   "source": [
    "## 2.c. Extract data from securities ownership master file"
   ]
  },
  {
   "cell_type": "code",
   "execution_count": 12,
   "metadata": {},
   "outputs": [],
   "source": [
    "security_data_consolidator('Dataset_Ownership_Efek')"
   ]
  },
  {
   "cell_type": "code",
   "execution_count": null,
   "metadata": {},
   "outputs": [],
   "source": []
  }
 ],
 "metadata": {
  "kernelspec": {
   "display_name": "Python 3",
   "language": "python",
   "name": "python3"
  },
  "language_info": {
   "codemirror_mode": {
    "name": "ipython",
    "version": 3
   },
   "file_extension": ".py",
   "mimetype": "text/x-python",
   "name": "python",
   "nbconvert_exporter": "python",
   "pygments_lexer": "ipython3",
   "version": "3.9.18"
  }
 },
 "nbformat": 4,
 "nbformat_minor": 2
}
