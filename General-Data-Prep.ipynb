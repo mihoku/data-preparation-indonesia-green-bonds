{
 "cells": [
  {
   "cell_type": "markdown",
   "metadata": {},
   "source": [
    "# 1. Importing Required Modules"
   ]
  },
  {
   "cell_type": "code",
   "execution_count": 3,
   "metadata": {},
   "outputs": [],
   "source": [
    "from zipfile import ZipFile \n",
    "import pandas as pd\n",
    "import os"
   ]
  },
  {
   "cell_type": "markdown",
   "metadata": {},
   "source": [
    "# 2. Extract data file from zip files"
   ]
  },
  {
   "cell_type": "markdown",
   "metadata": {},
   "source": [
    "## 2.a. Securities master file "
   ]
  },
  {
   "cell_type": "code",
   "execution_count": 5,
   "metadata": {},
   "outputs": [
    {
     "data": {
      "text/plain": [
       "['StatisEfek20210531.txt.zip',\n",
       " 'StatisEfek20210630.txt.zip',\n",
       " 'StatisEfek20210730.txt.zip',\n",
       " 'StatisEfek20210831.txt.zip',\n",
       " 'StatisEfek20210930.txt.zip',\n",
       " 'StatisEfek20211029.txt.zip',\n",
       " 'StatisEfek20211130.txt.zip',\n",
       " 'StatisEfek20211230.txt.zip',\n",
       " 'StatisEfek20220131.txt.zip',\n",
       " 'StatisEfek20220225.txt.zip',\n",
       " 'StatisEfek20220331.txt.zip',\n",
       " 'StatisEfek20220428.txt.zip',\n",
       " 'StatisEfek20220531.txt.zip',\n",
       " 'StatisEfek20220630.txt.zip',\n",
       " 'StatisEfek20220729.txt.zip',\n",
       " 'StatisEfek20220831.txt.zip',\n",
       " 'StatisEfek20220930.txt.zip',\n",
       " 'StatisEfek20221031.txt.zip',\n",
       " 'StatisEfek20221130.txt.zip',\n",
       " 'StatisEfek20221230.txt.zip',\n",
       " 'StatisEfek20230131.txt.zip',\n",
       " 'StatisEfek20230228.txt.zip',\n",
       " 'StatisEfek20230331.txt.zip',\n",
       " 'StatisEfek20230428.txt.zip',\n",
       " 'StatisEfek20230531.txt.zip',\n",
       " 'StatisEfek20230627.txt.zip',\n",
       " 'StatisEfek20230731.txt.zip',\n",
       " 'StatisEfek20230831.txt.zip',\n",
       " 'StatisEfek20230929.txt.zip',\n",
       " 'StatisEfek20231031.txt.zip',\n",
       " 'StatisEfek20231130.txt.zip',\n",
       " 'StatisEfek20231229.txt.zip',\n",
       " 'StatisEfek20240131.txt.zip',\n",
       " 'StatisEfek20240229.txt.zip',\n",
       " 'StatisEfek20240328.txt.zip',\n",
       " 'StatisEfek20240430.txt.zip']"
      ]
     },
     "execution_count": 5,
     "metadata": {},
     "output_type": "execute_result"
    }
   ],
   "source": [
    "# Listing all zip files in the directory\n",
    "securities_mf_path = 'Dataset_Masterfile_Efek'\n",
    "securities_mf_files = os.listdir(securities_mf_path)\n",
    "securities_mf_files"
   ]
  },
  {
   "cell_type": "markdown",
   "metadata": {},
   "source": [
    "## 2.b. Securities ownership master file"
   ]
  },
  {
   "cell_type": "code",
   "execution_count": 6,
   "metadata": {},
   "outputs": [
    {
     "data": {
      "text/plain": [
       "['BalanceposEfek20210531.zip',\n",
       " 'BalanceposEfek20210630.zip',\n",
       " 'BalanceposEfek20210730.zip',\n",
       " 'BalanceposEfek20210831.zip',\n",
       " 'BalanceposEfek20210930.zip',\n",
       " 'BalanceposEfek20211029.zip',\n",
       " 'BalanceposEfek20211130.zip',\n",
       " 'BalanceposEfek20211230.zip',\n",
       " 'BalanceposEfek20220131.zip',\n",
       " 'BalanceposEfek20220225.zip',\n",
       " 'BalanceposEfek20220331.zip',\n",
       " 'BalanceposEfek20220428.zip',\n",
       " 'BalanceposEfek20220531.zip',\n",
       " 'BalanceposEfek20220630.zip',\n",
       " 'BalanceposEfek20220729.zip',\n",
       " 'BalanceposEfek20220831.zip',\n",
       " 'BalanceposEfek20220930.zip',\n",
       " 'BalanceposEfek20221031.zip',\n",
       " 'BalanceposEfek20221130.zip',\n",
       " 'BalanceposEfek20221230.zip',\n",
       " 'BalanceposEfek20230131.zip',\n",
       " 'BalanceposEfek20230228.zip',\n",
       " 'BalanceposEfek20230331.zip',\n",
       " 'BalanceposEfek20230428.zip',\n",
       " 'BalanceposEfek20230531.zip',\n",
       " 'BalanceposEfek20230627.zip',\n",
       " 'BalanceposEfek20230731.zip',\n",
       " 'BalanceposEfek20230831.zip',\n",
       " 'BalanceposEfek20230929.zip',\n",
       " 'BalanceposEfek20231031.zip',\n",
       " 'BalanceposEfek20231130.zip',\n",
       " 'BalanceposEfek20231229.zip',\n",
       " 'BalanceposEfek20240131.zip',\n",
       " 'BalanceposEfek20240229.zip',\n",
       " 'BalanceposEfek20240328.zip',\n",
       " 'BalanceposEfek20240430.zip']"
      ]
     },
     "execution_count": 6,
     "metadata": {},
     "output_type": "execute_result"
    }
   ],
   "source": [
    "# Listing all zip files in the directory\n",
    "securities_os_path = 'Dataset_Ownership_Efek'\n",
    "securities_os_files = os.listdir(securities_os_path)\n",
    "securities_os_files"
   ]
  },
  {
   "cell_type": "code",
   "execution_count": null,
   "metadata": {},
   "outputs": [],
   "source": []
  }
 ],
 "metadata": {
  "kernelspec": {
   "display_name": "Python 3",
   "language": "python",
   "name": "python3"
  },
  "language_info": {
   "codemirror_mode": {
    "name": "ipython",
    "version": 3
   },
   "file_extension": ".py",
   "mimetype": "text/x-python",
   "name": "python",
   "nbconvert_exporter": "python",
   "pygments_lexer": "ipython3",
   "version": "3.9.18"
  }
 },
 "nbformat": 4,
 "nbformat_minor": 2
}
